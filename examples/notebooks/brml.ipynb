{
 "cells": [
  {
   "cell_type": "code",
   "execution_count": 1,
   "metadata": {
    "pycharm": {
     "is_executing": false,
     "name": "#%%\n"
    }
   },
   "outputs": [],
   "source": [
    "import set_paths\n",
    "from probability.discrete import DiscreteDistribution, ConditionalTable"
   ]
  },
  {
   "cell_type": "markdown",
   "metadata": {
    "collapsed": true,
    "pycharm": {
     "name": "#%% md\n"
    }
   },
   "source": [
    "# Bayesian Reasoning and Machine Learning"
   ]
  },
  {
   "cell_type": "markdown",
   "metadata": {
    "pycharm": {
     "name": "#%% md\n"
    }
   },
   "source": [
    "## 1.1 Probability Refresher "
   ]
  },
  {
   "cell_type": "markdown",
   "metadata": {
    "pycharm": {
     "name": "#%% md\n"
    }
   },
   "source": [
    "### 1.1.1 Interpreting Conditional Probability"
   ]
  },
  {
   "cell_type": "code",
   "execution_count": 2,
   "metadata": {
    "pycharm": {
     "is_executing": false,
     "name": "#%%\n"
    }
   },
   "outputs": [
    {
     "name": "stdout",
     "output_type": "stream",
     "text": [
      "DiscreteDistribution: P(region)\n",
      "===============================\n",
      "region\n",
      "1     0.05\n",
      "2     0.05\n",
      "3     0.05\n",
      "4     0.05\n",
      "5     0.05\n",
      "6     0.05\n",
      "7     0.05\n",
      "8     0.05\n",
      "9     0.05\n",
      "10    0.05\n",
      "11    0.05\n",
      "12    0.05\n",
      "13    0.05\n",
      "14    0.05\n",
      "15    0.05\n",
      "16    0.05\n",
      "17    0.05\n",
      "18    0.05\n",
      "19    0.05\n",
      "20    0.05\n",
      "Name: p, dtype: float64\n",
      "sum: 1.0000000000000002\n"
     ]
    }
   ],
   "source": [
    "darts = DiscreteDistribution.from_dict(\n",
    "    data={i: 1/20 for i in range(1, 21)},\n",
    "    var_names='region'\n",
    ")\n",
    "print(darts)"
   ]
  },
  {
   "cell_type": "code",
   "execution_count": 3,
   "metadata": {
    "pycharm": {
     "is_executing": false,
     "name": "#%%\n"
    }
   },
   "outputs": [
    {
     "data": {
      "text/plain": [
       "0.05263157894736842"
      ]
     },
     "execution_count": 3,
     "metadata": {},
     "output_type": "execute_result"
    }
   ],
   "source": [
    "1 / 19"
   ]
  },
  {
   "cell_type": "code",
   "execution_count": 4,
   "metadata": {
    "pycharm": {
     "is_executing": false,
     "name": "#%%\n"
    }
   },
   "outputs": [
    {
     "data": {
      "text/plain": [
       "0.05263157894736841"
      ]
     },
     "execution_count": 4,
     "metadata": {},
     "output_type": "execute_result"
    }
   ],
   "source": [
    "darts.given(region__ne=20).p(region=5)"
   ]
  },
  {
   "cell_type": "code",
   "execution_count": 5,
   "metadata": {
    "pycharm": {
     "is_executing": false,
     "name": "#%%\n"
    }
   },
   "outputs": [
    {
     "data": {
      "text/plain": [
       "0.05263157894736841"
      ]
     },
     "execution_count": 5,
     "metadata": {},
     "output_type": "execute_result"
    }
   ],
   "source": [
    "darts.p(region=5, region__ne=20) / darts.p(region__ne=20)"
   ]
  },
  {
   "cell_type": "code",
   "execution_count": 6,
   "metadata": {
    "pycharm": {
     "is_executing": false,
     "name": "#%%\n"
    }
   },
   "outputs": [
    {
     "data": {
      "text/plain": [
       "0.05263157894736841"
      ]
     },
     "execution_count": 6,
     "metadata": {},
     "output_type": "execute_result"
    }
   ],
   "source": [
    "darts.p(region=5) / darts.p(region__ne=20)"
   ]
  },
  {
   "cell_type": "markdown",
   "metadata": {
    "pycharm": {
     "is_executing": false,
     "name": "#%% md\n"
    }
   },
   "source": [
    "### 1.1.2 Probability Tables"
   ]
  },
  {
   "cell_type": "code",
   "execution_count": 7,
   "metadata": {
    "pycharm": {
     "is_executing": false,
     "name": "#%%\n"
    }
   },
   "outputs": [
    {
     "name": "stdout",
     "output_type": "stream",
     "text": [
      "DiscreteDistribution: P(country)\n",
      "================================\n",
      "country\n",
      "england     0.882429\n",
      "scotland    0.074294\n",
      "wales       0.043278\n",
      "Name: p, dtype: float64\n",
      "sum: 0.9999999999999999\n"
     ]
    }
   ],
   "source": [
    "p_c = DiscreteDistribution.from_counts({\n",
    "    'england': 60_776_238,\n",
    "    'scotland': 5_116_900,\n",
    "    'wales': 2_980_700\n",
    "}, 'country')\n",
    "print(p_c)"
   ]
  },
  {
   "cell_type": "code",
   "execution_count": 8,
   "metadata": {
    "pycharm": {
     "is_executing": false,
     "name": "#%%\n"
    }
   },
   "outputs": [
    {
     "name": "stdout",
     "output_type": "stream",
     "text": [
      "ConditionalTable: P(language|country)\n",
      "=====================================\n",
      "language  country \n",
      "english   england     0.95\n",
      "          scotland    0.70\n",
      "          wales       0.60\n",
      "scottish  england     0.04\n",
      "          scotland    0.30\n",
      "          wales       0.00\n",
      "welsh     england     0.01\n",
      "          scotland    0.00\n",
      "          wales       0.40\n",
      "Name: p, dtype: float64\n",
      "sum: 3.0\n"
     ]
    }
   ],
   "source": [
    "p_l__c = ConditionalTable.from_dict({\n",
    "    ('english', 'england'): 0.95,\n",
    "    ('english', 'scotland'): 0.7,\n",
    "    ('english', 'wales'): 0.6,\n",
    "    ('scottish', 'england'): 0.04,\n",
    "    ('scottish', 'scotland'): 0.3,\n",
    "    ('scottish', 'wales'): 0.0,\n",
    "    ('welsh', 'england'): 0.01,\n",
    "    ('welsh', 'scotland'): 0.0,\n",
    "    ('welsh', 'wales'): 0.4,\n",
    "}, ['language', 'country'], 'country')\n",
    "print(p_l__c)"
   ]
  },
  {
   "cell_type": "code",
   "execution_count": 9,
   "metadata": {
    "pycharm": {
     "is_executing": false,
     "name": "#%%\n"
    }
   },
   "outputs": [
    {
     "name": "stdout",
     "output_type": "stream",
     "text": [
      "DiscreteDistribution: P(language,country)\n",
      "=========================================\n",
      "language  country \n",
      "english   england     0.838307\n",
      "          scotland    0.052006\n",
      "          wales       0.025967\n",
      "scottish  england     0.035297\n",
      "          scotland    0.022288\n",
      "          wales       0.000000\n",
      "welsh     england     0.008824\n",
      "          scotland    0.000000\n",
      "          wales       0.017311\n",
      "Name: p, dtype: float64\n",
      "sum: 0.9999999999999999\n"
     ]
    }
   ],
   "source": [
    "p_lc = p_l__c * p_c\n",
    "print(p_lc)"
   ]
  },
  {
   "cell_type": "markdown",
   "metadata": {
    "pycharm": {
     "name": "#%% md\n"
    }
   },
   "source": [
    "## 1.2 Probabilistic Reasoning"
   ]
  },
  {
   "cell_type": "markdown",
   "metadata": {
    "pycharm": {
     "name": "#%% md\n"
    }
   },
   "source": [
    "#### Example 1.2"
   ]
  },
  {
   "cell_type": "code",
   "execution_count": 10,
   "metadata": {
    "pycharm": {
     "is_executing": false,
     "name": "#%%\n"
    }
   },
   "outputs": [
    {
     "name": "stdout",
     "output_type": "stream",
     "text": [
      "DiscreteDistribution: P(has_kj)\n",
      "===============================\n",
      "has_kj\n",
      "yes    0.00001\n",
      "no     0.99999\n",
      "Name: p, dtype: float64\n",
      "sum: 1.0\n"
     ]
    }
   ],
   "source": [
    "p_kj = DiscreteDistribution.from_dict(data={\n",
    "    'yes': 1e-5, \n",
    "    'no': 1 - 1e-5\n",
    "}, var_names='has_kj')\n",
    "print(p_kj)"
   ]
  },
  {
   "cell_type": "code",
   "execution_count": 11,
   "metadata": {
    "pycharm": {
     "is_executing": false,
     "name": "#%%\n"
    }
   },
   "outputs": [
    {
     "name": "stdout",
     "output_type": "stream",
     "text": [
      "ConditionalTable: P(eats_hbs|has_kj)\n",
      "====================================\n",
      "eats_hbs  has_kj\n",
      "yes       yes       0.9\n",
      "no        yes       0.1\n",
      "Name: p, dtype: float64\n",
      "sum: 1.0\n"
     ]
    }
   ],
   "source": [
    "p_h__kj = ConditionalTable.from_dict({\n",
    "    ('yes', 'yes'): 0.9,\n",
    "    ('no', 'yes'): 0.1\n",
    "}, var_names=['eats_hbs', 'has_kj'], cond_var_names='has_kj')\n",
    "print(p_h__kj)"
   ]
  },
  {
   "cell_type": "markdown",
   "metadata": {},
   "source": [
    "##### 1)"
   ]
  },
  {
   "cell_type": "code",
   "execution_count": 12,
   "metadata": {
    "pycharm": {
     "is_executing": false,
     "name": "#%%\n"
    }
   },
   "outputs": [
    {
     "name": "stdout",
     "output_type": "stream",
     "text": [
      "DiscreteDistribution: P(eats_hbs)\n",
      "=================================\n",
      "eats_hbs\n",
      "yes    0.5\n",
      "no     0.5\n",
      "Name: p, dtype: float64\n",
      "sum: 1.0\n"
     ]
    }
   ],
   "source": [
    "p_h = DiscreteDistribution.from_dict({'yes': 0.5, 'no': 0.5}, var_names='eats_hbs')\n",
    "print(p_h)"
   ]
  },
  {
   "cell_type": "code",
   "execution_count": 13,
   "metadata": {},
   "outputs": [
    {
     "name": "stdout",
     "output_type": "stream",
     "text": [
      "ConditionalTable: P(has_kj|eats_hbs)\n",
      "====================================\n",
      "has_kj  eats_hbs\n",
      "yes     no          0.000002\n",
      "        yes         0.000018\n",
      "Name: p, dtype: float64\n",
      "sum: 2e-05\n"
     ]
    }
   ],
   "source": [
    "p_kj__h = p_h__kj * p_kj / p_h\n",
    "print(p_kj__h)"
   ]
  },
  {
   "cell_type": "code",
   "execution_count": 14,
   "metadata": {},
   "outputs": [
    {
     "name": "stdout",
     "output_type": "stream",
     "text": [
      "1.8e-05\n"
     ]
    }
   ],
   "source": [
    "print(p_kj__h.p(has_kj='yes', eats_hbs='yes'))"
   ]
  },
  {
   "cell_type": "markdown",
   "metadata": {},
   "source": [
    "##### 2)"
   ]
  },
  {
   "cell_type": "code",
   "execution_count": 15,
   "metadata": {},
   "outputs": [
    {
     "name": "stdout",
     "output_type": "stream",
     "text": [
      "DiscreteDistribution: P(eats_hbs)\n",
      "=================================\n",
      "eats_hbs\n",
      "yes    0.001\n",
      "no     0.999\n",
      "Name: p, dtype: float64\n",
      "sum: 1.0\n"
     ]
    }
   ],
   "source": [
    "p_h = DiscreteDistribution.from_dict({'yes': 0.001, 'no': 0.999}, var_names='eats_hbs')\n",
    "print(p_h)"
   ]
  },
  {
   "cell_type": "code",
   "execution_count": 16,
   "metadata": {},
   "outputs": [
    {
     "name": "stdout",
     "output_type": "stream",
     "text": [
      "ConditionalTable: P(has_kj|eats_hbs)\n",
      "====================================\n",
      "has_kj  eats_hbs\n",
      "yes     no          0.000001\n",
      "        yes         0.009000\n",
      "Name: p, dtype: float64\n",
      "sum: 0.009001001001001001\n"
     ]
    }
   ],
   "source": [
    "p_kj__h = p_h__kj * p_kj / p_h\n",
    "print(p_kj__h)"
   ]
  },
  {
   "cell_type": "code",
   "execution_count": 17,
   "metadata": {},
   "outputs": [
    {
     "name": "stdout",
     "output_type": "stream",
     "text": [
      "0.009\n"
     ]
    }
   ],
   "source": [
    "print(p_kj__h.p(has_kj='yes', eats_hbs='yes'))"
   ]
  },
  {
   "cell_type": "markdown",
   "metadata": {},
   "source": [
    "#### Example 1.3"
   ]
  },
  {
   "cell_type": "code",
   "execution_count": 68,
   "metadata": {},
   "outputs": [
    {
     "name": "stdout",
     "output_type": "stream",
     "text": [
      "DiscreteDistribution: P(butler)\n",
      "===============================\n",
      "butler\n",
      "yes    0.6\n",
      "no     0.4\n",
      "Name: p, dtype: float64\n",
      "sum: 1.0\n"
     ]
    }
   ],
   "source": [
    "p_b = DiscreteDistribution.from_dict({'yes': 0.6, 'no': 0.4}, var_names='butler')\n",
    "print(p_b)"
   ]
  },
  {
   "cell_type": "code",
   "execution_count": 69,
   "metadata": {},
   "outputs": [
    {
     "name": "stdout",
     "output_type": "stream",
     "text": [
      "DiscreteDistribution: P(maid)\n",
      "=============================\n",
      "maid\n",
      "yes    0.2\n",
      "no     0.8\n",
      "Name: p, dtype: float64\n",
      "sum: 1.0\n"
     ]
    }
   ],
   "source": [
    "p_m = DiscreteDistribution.from_dict({'yes': 0.2, 'no': 0.8}, var_names='maid')\n",
    "print(p_m)"
   ]
  },
  {
   "cell_type": "code",
   "execution_count": 70,
   "metadata": {},
   "outputs": [
    {
     "name": "stdout",
     "output_type": "stream",
     "text": [
      "DiscreteDistribution: P(butler,maid)\n",
      "====================================\n",
      "butler  maid\n",
      "yes     yes     0.12\n",
      "        no      0.48\n",
      "no      yes     0.08\n",
      "        no      0.32\n",
      "Name: p, dtype: float64\n",
      "sum: 1.0\n"
     ]
    }
   ],
   "source": [
    "# p_bm = p_b * p_m\n",
    "p_bm = DiscreteDistribution.from_dict({\n",
    "    ('yes', 'yes'): 0.6 * 0.2,\n",
    "    ('yes', 'no'): 0.6 * 0.8,\n",
    "    ('no', 'yes'): 0.4 * 0.2,\n",
    "    ('no', 'no'): 0.4 * 0.8\n",
    "}, var_names=['butler', 'maid'])\n",
    "print(p_bm)"
   ]
  },
  {
   "cell_type": "code",
   "execution_count": 71,
   "metadata": {},
   "outputs": [
    {
     "name": "stdout",
     "output_type": "stream",
     "text": [
      "ConditionalTable: P(knife_used|butler,maid)\n",
      "===========================================\n",
      "knife_used  butler  maid\n",
      "yes         no      no      0.3\n",
      "                    yes     0.2\n",
      "            yes     no      0.6\n",
      "                    yes     0.1\n",
      "no          no      no      0.7\n",
      "                    yes     0.8\n",
      "            yes     no      0.4\n",
      "                    yes     0.9\n",
      "Name: p, dtype: float64\n",
      "sum: 4.0\n"
     ]
    }
   ],
   "source": [
    "p_k__bm = ConditionalTable.from_dict({\n",
    "    ('yes', 'no', 'no'): 0.3,\n",
    "    ('yes', 'no', 'yes'): 0.2,\n",
    "    ('yes', 'yes', 'no'): 0.6,\n",
    "    ('yes', 'yes', 'yes'): 0.1,\n",
    "    ('no', 'no', 'no'): 0.7,\n",
    "    ('no', 'no', 'yes'): 0.8,\n",
    "    ('no', 'yes', 'no'): 0.4,\n",
    "    ('no', 'yes', 'yes'): 0.9,\n",
    "}, var_names=['knife_used', 'butler', 'maid'], cond_var_names=['butler', 'maid'])\n",
    "print(p_k__bm)"
   ]
  },
  {
   "cell_type": "code",
   "execution_count": 72,
   "metadata": {},
   "outputs": [
    {
     "name": "stdout",
     "output_type": "stream",
     "text": [
      "DiscreteDistribution: P(knife_used,butler,maid)\n",
      "===============================================\n",
      "knife_used  butler  maid\n",
      "no          no      no      0.224\n",
      "                    yes     0.064\n",
      "            yes     no      0.192\n",
      "                    yes     0.108\n",
      "yes         no      no      0.096\n",
      "                    yes     0.016\n",
      "            yes     no      0.288\n",
      "                    yes     0.012\n",
      "Name: p, dtype: float64\n",
      "sum: 1.0\n"
     ]
    }
   ],
   "source": [
    "p_m__k = p_bm * p_k__bm\n",
    "print(p_m__k)"
   ]
  },
  {
   "cell_type": "code",
   "execution_count": 73,
   "metadata": {},
   "outputs": [
    {
     "name": "stdout",
     "output_type": "stream",
     "text": [
      "DiscreteDistribution: P(butler,maid|knife_used=yes)\n",
      "===================================================\n",
      "butler  maid\n",
      "no      no      0.233010\n",
      "        yes     0.038835\n",
      "yes     no      0.699029\n",
      "        yes     0.029126\n",
      "Name: p, dtype: float64\n",
      "sum: 0.9999999999999999\n"
     ]
    }
   ],
   "source": [
    "p_bm__k_yes = p_m__k.given(knife_used='yes')\n",
    "print(p_bm__k_yes)"
   ]
  },
  {
   "cell_type": "code",
   "execution_count": 74,
   "metadata": {},
   "outputs": [
    {
     "name": "stdout",
     "output_type": "stream",
     "text": [
      "DiscreteDistribution: P(butler)\n",
      "===============================\n",
      "butler\n",
      "no     0.271845\n",
      "yes    0.728155\n",
      "Name: p, dtype: float64\n",
      "sum: 0.9999999999999999\n"
     ]
    }
   ],
   "source": [
    "p_b_yes__k_yes = p_bm__k_yes.margin('butler')\n",
    "print(p_b_yes__k_yes)"
   ]
  },
  {
   "cell_type": "code",
   "execution_count": 76,
   "metadata": {},
   "outputs": [
    {
     "data": {
      "text/plain": [
       "0.7281553398058251"
      ]
     },
     "execution_count": 76,
     "metadata": {},
     "output_type": "execute_result"
    }
   ],
   "source": [
    "p_m_butler__k_yes = p_b_yes__k_yes.p(butler='yes')\n",
    "p_m_butler__k_yes"
   ]
  },
  {
   "cell_type": "markdown",
   "metadata": {
    "pycharm": {
     "name": "#%% md\n"
    }
   },
   "source": [
    "### 1.3.1 Two dice : what were the individual scores?"
   ]
  },
  {
   "cell_type": "code",
   "execution_count": null,
   "metadata": {},
   "outputs": [],
   "source": []
  }
 ],
 "metadata": {
  "kernelspec": {
   "display_name": "Python 3",
   "language": "python",
   "name": "python3"
  },
  "language_info": {
   "codemirror_mode": {
    "name": "ipython",
    "version": 3
   },
   "file_extension": ".py",
   "mimetype": "text/x-python",
   "name": "python",
   "nbconvert_exporter": "python",
   "pygments_lexer": "ipython3",
   "version": "3.6.7"
  },
  "pycharm": {
   "stem_cell": {
    "cell_type": "raw",
    "metadata": {
     "collapsed": false
    },
    "source": []
   }
  }
 },
 "nbformat": 4,
 "nbformat_minor": 1
}
