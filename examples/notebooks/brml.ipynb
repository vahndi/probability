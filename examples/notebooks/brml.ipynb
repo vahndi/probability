{
 "cells": [
  {
   "cell_type": "code",
   "execution_count": 1,
   "outputs": [],
   "source": [
    "from probability.pandas import DiscreteDistribution, ConditionalTable"
   ],
   "metadata": {
    "collapsed": false,
    "pycharm": {
     "name": "#%%\n",
     "is_executing": false
    }
   }
  },
  {
   "cell_type": "markdown",
   "metadata": {
    "collapsed": true,
    "pycharm": {
     "name": "#%% md\n"
    }
   },
   "source": [
    "# Bayesian Reasoning and Machine Learning"
   ]
  },
  {
   "cell_type": "markdown",
   "source": [
    "### 1.1.1 Interpreting Conditional Probability"
   ],
   "metadata": {
    "collapsed": false,
    "pycharm": {
     "name": "#%% md\n"
    }
   }
  },
  {
   "cell_type": "code",
   "execution_count": 2,
   "outputs": [
    {
     "name": "stdout",
     "text": [
      "DiscreteDistribution: P(region)\n",
      "===============================\n",
      "region\n",
      "1     0.05\n",
      "2     0.05\n",
      "3     0.05\n",
      "4     0.05\n",
      "5     0.05\n",
      "6     0.05\n",
      "7     0.05\n",
      "8     0.05\n",
      "9     0.05\n",
      "10    0.05\n",
      "11    0.05\n",
      "12    0.05\n",
      "13    0.05\n",
      "14    0.05\n",
      "15    0.05\n",
      "16    0.05\n",
      "17    0.05\n",
      "18    0.05\n",
      "19    0.05\n",
      "20    0.05\n",
      "Name: p, dtype: float64\n",
      "sum: 1.0000000000000002\n"
     ],
     "output_type": "stream"
    }
   ],
   "source": [
    "darts = DiscreteDistribution.from_dict(\n",
    "    data={i: 1/20 for i in range(1, 21)},\n",
    "    var_names='region'\n",
    ")\n",
    "print(darts)"
   ],
   "metadata": {
    "collapsed": false,
    "pycharm": {
     "name": "#%%\n",
     "is_executing": false
    }
   }
  },
  {
   "cell_type": "code",
   "execution_count": 3,
   "outputs": [
    {
     "data": {
      "text/plain": "0.05263157894736841"
     },
     "metadata": {},
     "output_type": "execute_result",
     "execution_count": 3
    }
   ],
   "source": [
    "darts.given(region__ne=20).p(region=5)"
   ],
   "metadata": {
    "collapsed": false,
    "pycharm": {
     "name": "#%%\n",
     "is_executing": false
    }
   }
  },
  {
   "cell_type": "code",
   "execution_count": 4,
   "outputs": [
    {
     "data": {
      "text/plain": "0.05263157894736841"
     },
     "metadata": {},
     "output_type": "execute_result",
     "execution_count": 4
    }
   ],
   "source": [
    "darts.p(region=5, region__ne=20) / darts.p(region__ne=20)"
   ],
   "metadata": {
    "collapsed": false,
    "pycharm": {
     "name": "#%%\n",
     "is_executing": false
    }
   }
  },
  {
   "cell_type": "code",
   "execution_count": 5,
   "outputs": [
    {
     "data": {
      "text/plain": "0.05263157894736841"
     },
     "metadata": {},
     "output_type": "execute_result",
     "execution_count": 5
    }
   ],
   "source": [
    "darts.p(region=5) / darts.p(region__ne=20)"
   ],
   "metadata": {
    "collapsed": false,
    "pycharm": {
     "name": "#%%\n",
     "is_executing": false
    }
   }
  },
  {
   "cell_type": "code",
   "execution_count": 6,
   "outputs": [
    {
     "data": {
      "text/plain": "0.05263157894736842"
     },
     "metadata": {},
     "output_type": "execute_result",
     "execution_count": 6
    }
   ],
   "source": [
    "1 / 19"
   ],
   "metadata": {
    "collapsed": false,
    "pycharm": {
     "name": "#%%\n",
     "is_executing": false
    }
   }
  },
  {
   "cell_type": "markdown",
   "source": [
    "### 1.1.2 Probability Tables"
   ],
   "metadata": {
    "collapsed": false,
    "pycharm": {
     "name": "#%% md\n",
     "is_executing": false
    }
   }
  },
  {
   "cell_type": "code",
   "execution_count": 7,
   "outputs": [
    {
     "name": "stdout",
     "text": [
      "DiscreteDistribution: P(country)\n",
      "================================\n",
      "country\n",
      "england     0.882429\n",
      "scotland    0.074294\n",
      "wales       0.043278\n",
      "Name: p, dtype: float64\n",
      "sum: 0.9999999999999999\n"
     ],
     "output_type": "stream"
    }
   ],
   "source": [
    "p_c = DiscreteDistribution.from_counts({\n",
    "    'england': 60_776_238,\n",
    "    'scotland': 5_116_900,\n",
    "    'wales': 2_980_700\n",
    "}, 'country')\n",
    "print(p_c)"
   ],
   "metadata": {
    "collapsed": false,
    "pycharm": {
     "name": "#%%\n",
     "is_executing": false
    }
   }
  },
  {
   "cell_type": "code",
   "execution_count": 8,
   "outputs": [
    {
     "name": "stdout",
     "text": [
      "ConditionalTable: P(language|country)\n",
      "=====================================\n",
      "language  country \n",
      "english   england     0.95\n",
      "          scotland    0.70\n",
      "          wales       0.60\n",
      "scottish  england     0.04\n",
      "          scotland    0.30\n",
      "          wales       0.00\n",
      "welsh     england     0.01\n",
      "          scotland    0.00\n",
      "          wales       0.40\n",
      "Name: p, dtype: float64\n",
      "sum: 3.0\n"
     ],
     "output_type": "stream"
    }
   ],
   "source": [
    "p_l__c = ConditionalTable.from_dict({\n",
    "    ('english', 'england'): 0.95,\n",
    "    ('english', 'scotland'): 0.7,\n",
    "    ('english', 'wales'): 0.6,\n",
    "    ('scottish', 'england'): 0.04,\n",
    "    ('scottish', 'scotland'): 0.3,\n",
    "    ('scottish', 'wales'): 0.0,\n",
    "    ('welsh', 'england'): 0.01,\n",
    "    ('welsh', 'scotland'): 0.0,\n",
    "    ('welsh', 'wales'): 0.4,\n",
    "}, ['language', 'country'], 'country')\n",
    "print(p_l__c)"
   ],
   "metadata": {
    "collapsed": false,
    "pycharm": {
     "name": "#%%\n",
     "is_executing": false
    }
   }
  },
  {
   "cell_type": "code",
   "execution_count": 10,
   "outputs": [
    {
     "name": "stdout",
     "text": [
      "DiscreteDistribution: P(language,country)\n",
      "=========================================\n",
      "language  country \n",
      "english   england     0.838307\n",
      "          scotland    0.052006\n",
      "          wales       0.025967\n",
      "scottish  england     0.035297\n",
      "          scotland    0.022288\n",
      "          wales       0.000000\n",
      "welsh     england     0.008824\n",
      "          scotland    0.000000\n",
      "          wales       0.017311\n",
      "Name: p, dtype: float64\n",
      "sum: 0.9999999999999999\n"
     ],
     "output_type": "stream"
    }
   ],
   "source": [
    "p_lc = p_l__c * p_c\n",
    "print(p_lc)"
   ],
   "metadata": {
    "collapsed": false,
    "pycharm": {
     "name": "#%%\n",
     "is_executing": false
    }
   }
  },
  {
   "cell_type": "markdown",
   "source": [
    "1.3.1 Two dice : what were the individual scores?"
   ],
   "metadata": {
    "collapsed": false,
    "pycharm": {
     "name": "#%% md\n"
    }
   }
  },
  {
   "cell_type": "code",
   "execution_count": null,
   "outputs": [],
   "source": [],
   "metadata": {
    "collapsed": false,
    "pycharm": {
     "name": "#%%\n"
    }
   }
  }
 ],
 "metadata": {
  "kernelspec": {
   "display_name": "Python 3",
   "language": "python",
   "name": "python3"
  },
  "language_info": {
   "codemirror_mode": {
    "name": "ipython",
    "version": 2
   },
   "file_extension": ".py",
   "mimetype": "text/x-python",
   "name": "python",
   "nbconvert_exporter": "python",
   "pygments_lexer": "ipython2",
   "version": "2.7.6"
  },
  "pycharm": {
   "stem_cell": {
    "cell_type": "raw",
    "source": [],
    "metadata": {
     "collapsed": false
    }
   }
  }
 },
 "nbformat": 4,
 "nbformat_minor": 0
}